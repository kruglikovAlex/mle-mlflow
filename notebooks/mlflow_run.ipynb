{
 "cells": [
  {
   "cell_type": "code",
   "execution_count": 14,
   "id": "ba540dbd",
   "metadata": {},
   "outputs": [
    {
     "name": "stdout",
     "output_type": "stream",
     "text": [
      "Requirement already satisfied: psycopg in /home/mle-user/.venv_mle-mlflow/lib/python3.10/site-packages (3.2.9)\n",
      "Requirement already satisfied: typing-extensions>=4.6 in /home/mle-user/.venv_mle-mlflow/lib/python3.10/site-packages (from psycopg) (4.14.0)\n",
      "Requirement already satisfied: psycopg[binary] in /home/mle-user/.venv_mle-mlflow/lib/python3.10/site-packages (3.2.9)\n",
      "Requirement already satisfied: typing-extensions>=4.6 in /home/mle-user/.venv_mle-mlflow/lib/python3.10/site-packages (from psycopg[binary]) (4.14.0)\n",
      "Collecting psycopg-binary==3.2.9\n",
      "  Downloading psycopg_binary-3.2.9-cp310-cp310-manylinux_2_17_x86_64.manylinux2014_x86_64.whl (4.5 MB)\n",
      "\u001b[2K     \u001b[90m━━━━━━━━━━━━━━━━━━━━━━━━━━━━━━━━━━━━━━━━\u001b[0m \u001b[32m4.5/4.5 MB\u001b[0m \u001b[31m17.2 MB/s\u001b[0m eta \u001b[36m0:00:00\u001b[0m00:01\u001b[0m00:01\u001b[0m\n",
      "\u001b[?25hInstalling collected packages: psycopg-binary\n",
      "Successfully installed psycopg-binary-3.2.9\n",
      "Note: you may need to restart the kernel to use updated packages.\n"
     ]
    }
   ],
   "source": [
    "pip install psycopg && pip install 'psycopg[binary]'"
   ]
  },
  {
   "cell_type": "code",
   "execution_count": 31,
   "id": "135b75fb",
   "metadata": {},
   "outputs": [],
   "source": [
    "# делаем import необходимых библиотек\n",
    "import os\n",
    "import mlflow\n",
    "import psycopg\n",
    "import pandas as pd\n",
    "from dotenv import load_dotenv"
   ]
  },
  {
   "cell_type": "code",
   "execution_count": 25,
   "id": "53a229a6",
   "metadata": {},
   "outputs": [],
   "source": [
    "# подгружаем .env\n",
    "load_dotenv()\n",
    "\n",
    "connection = {\"sslmode\": \"require\", \"target_session_attrs\": \"read-write\"}\n",
    "\n",
    "postgres_credentials = {\n",
    "    \"host\": os.environ.get('DB_DESTINATION_HOST'), \n",
    "    \"port\": os.environ.get('DB_DESTINATION_PORT'),\n",
    "    \"dbname\": os.environ.get('DB_DESTINATION_NAME'),\n",
    "    \"user\": os.environ.get('DB_DESTINATION_USER'),\n",
    "    \"password\": os.environ.get('DB_DESTINATION_PASSWORD'),\n",
    "}\n",
    "assert all([var_value != \"\" for var_value in list(postgres_credentials.values())])\n",
    "\n",
    "connection.update(postgres_credentials)"
   ]
  },
  {
   "cell_type": "code",
   "execution_count": 28,
   "id": "373adb40",
   "metadata": {},
   "outputs": [],
   "source": [
    "# определим название таблицы, в которой хранятся наши данные.\n",
    "TABLE_NAME = \"users_churn\""
   ]
  },
  {
   "cell_type": "code",
   "execution_count": 29,
   "id": "82a26110",
   "metadata": {},
   "outputs": [],
   "source": [
    "# эта конструкция создаёт контекстное управление для соединения с базой данных \n",
    "# оператор with гарантирует, что соединение будет корректно закрыто после выполнения всех операций \n",
    "# закрыто оно будет даже в случае ошибки, чтобы не допустить \"утечку памяти\"\n",
    "with psycopg.connect(**connection) as conn:\n",
    "\n",
    "# создаёт объект курсора для выполнения запросов к базе данных\n",
    "# с помощью метода execute() выполняется SQL-запрос для выборки данных из таблицы TABLE_NAME\n",
    "    with conn.cursor() as cur:\n",
    "        cur.execute(f\"SELECT * FROM {TABLE_NAME}\")\n",
    "                \n",
    "                # извлекаем все строки, полученные в результате выполнения запроса\n",
    "        data = cur.fetchall()\n",
    "\n",
    "                # получает список имён столбцов из объекта курсора\n",
    "        columns = [col[0] for col in cur.description]\n"
   ]
  },
  {
   "cell_type": "code",
   "execution_count": 32,
   "id": "9c3e1dd0",
   "metadata": {},
   "outputs": [],
   "source": [
    "# создаёт объект DataFrame из полученных данных и имён столбцов. \n",
    "# это позволяет удобно работать с данными в Python, используя библиотеку Pandas.\n",
    "df = pd.DataFrame(data, columns=columns) "
   ]
  },
  {
   "cell_type": "code",
   "execution_count": 33,
   "id": "d7f2cf35",
   "metadata": {},
   "outputs": [
    {
     "data": {
      "text/html": [
       "<div>\n",
       "<style scoped>\n",
       "    .dataframe tbody tr th:only-of-type {\n",
       "        vertical-align: middle;\n",
       "    }\n",
       "\n",
       "    .dataframe tbody tr th {\n",
       "        vertical-align: top;\n",
       "    }\n",
       "\n",
       "    .dataframe thead th {\n",
       "        text-align: right;\n",
       "    }\n",
       "</style>\n",
       "<table border=\"1\" class=\"dataframe\">\n",
       "  <thead>\n",
       "    <tr style=\"text-align: right;\">\n",
       "      <th></th>\n",
       "      <th>id</th>\n",
       "      <th>customer_id</th>\n",
       "      <th>begin_date</th>\n",
       "      <th>end_date</th>\n",
       "      <th>type</th>\n",
       "      <th>paperless_billing</th>\n",
       "      <th>payment_method</th>\n",
       "      <th>monthly_charges</th>\n",
       "      <th>total_charges</th>\n",
       "      <th>internet_service</th>\n",
       "      <th>...</th>\n",
       "      <th>device_protection</th>\n",
       "      <th>tech_support</th>\n",
       "      <th>streaming_tv</th>\n",
       "      <th>streaming_movies</th>\n",
       "      <th>gender</th>\n",
       "      <th>senior_citizen</th>\n",
       "      <th>partner</th>\n",
       "      <th>dependents</th>\n",
       "      <th>multiple_lines</th>\n",
       "      <th>target</th>\n",
       "    </tr>\n",
       "  </thead>\n",
       "  <tbody>\n",
       "    <tr>\n",
       "      <th>0</th>\n",
       "      <td>28173</td>\n",
       "      <td>7590-VHVEG</td>\n",
       "      <td>2020-01-01</td>\n",
       "      <td>NaT</td>\n",
       "      <td>Month-to-month</td>\n",
       "      <td>Yes</td>\n",
       "      <td>Electronic check</td>\n",
       "      <td>29.85</td>\n",
       "      <td>29.85</td>\n",
       "      <td>DSL</td>\n",
       "      <td>...</td>\n",
       "      <td>No</td>\n",
       "      <td>No</td>\n",
       "      <td>No</td>\n",
       "      <td>No</td>\n",
       "      <td>Female</td>\n",
       "      <td>0</td>\n",
       "      <td>Yes</td>\n",
       "      <td>No</td>\n",
       "      <td>None</td>\n",
       "      <td>0</td>\n",
       "    </tr>\n",
       "    <tr>\n",
       "      <th>1</th>\n",
       "      <td>28174</td>\n",
       "      <td>5575-GNVDE</td>\n",
       "      <td>2017-04-01</td>\n",
       "      <td>NaT</td>\n",
       "      <td>One year</td>\n",
       "      <td>No</td>\n",
       "      <td>Mailed check</td>\n",
       "      <td>56.95</td>\n",
       "      <td>1889.50</td>\n",
       "      <td>DSL</td>\n",
       "      <td>...</td>\n",
       "      <td>Yes</td>\n",
       "      <td>No</td>\n",
       "      <td>No</td>\n",
       "      <td>No</td>\n",
       "      <td>Male</td>\n",
       "      <td>0</td>\n",
       "      <td>No</td>\n",
       "      <td>No</td>\n",
       "      <td>No</td>\n",
       "      <td>0</td>\n",
       "    </tr>\n",
       "    <tr>\n",
       "      <th>2</th>\n",
       "      <td>28175</td>\n",
       "      <td>3668-QPYBK</td>\n",
       "      <td>2019-10-01</td>\n",
       "      <td>2019-12-01</td>\n",
       "      <td>Month-to-month</td>\n",
       "      <td>Yes</td>\n",
       "      <td>Mailed check</td>\n",
       "      <td>53.85</td>\n",
       "      <td>108.15</td>\n",
       "      <td>DSL</td>\n",
       "      <td>...</td>\n",
       "      <td>No</td>\n",
       "      <td>No</td>\n",
       "      <td>No</td>\n",
       "      <td>No</td>\n",
       "      <td>Male</td>\n",
       "      <td>0</td>\n",
       "      <td>No</td>\n",
       "      <td>No</td>\n",
       "      <td>No</td>\n",
       "      <td>1</td>\n",
       "    </tr>\n",
       "    <tr>\n",
       "      <th>3</th>\n",
       "      <td>28176</td>\n",
       "      <td>7795-CFOCW</td>\n",
       "      <td>2016-05-01</td>\n",
       "      <td>NaT</td>\n",
       "      <td>One year</td>\n",
       "      <td>No</td>\n",
       "      <td>Bank transfer (automatic)</td>\n",
       "      <td>42.30</td>\n",
       "      <td>1840.75</td>\n",
       "      <td>DSL</td>\n",
       "      <td>...</td>\n",
       "      <td>Yes</td>\n",
       "      <td>Yes</td>\n",
       "      <td>No</td>\n",
       "      <td>No</td>\n",
       "      <td>Male</td>\n",
       "      <td>0</td>\n",
       "      <td>No</td>\n",
       "      <td>No</td>\n",
       "      <td>None</td>\n",
       "      <td>0</td>\n",
       "    </tr>\n",
       "    <tr>\n",
       "      <th>4</th>\n",
       "      <td>28177</td>\n",
       "      <td>9237-HQITU</td>\n",
       "      <td>2019-09-01</td>\n",
       "      <td>2019-11-01</td>\n",
       "      <td>Month-to-month</td>\n",
       "      <td>Yes</td>\n",
       "      <td>Electronic check</td>\n",
       "      <td>70.70</td>\n",
       "      <td>151.65</td>\n",
       "      <td>Fiber optic</td>\n",
       "      <td>...</td>\n",
       "      <td>No</td>\n",
       "      <td>No</td>\n",
       "      <td>No</td>\n",
       "      <td>No</td>\n",
       "      <td>Female</td>\n",
       "      <td>0</td>\n",
       "      <td>No</td>\n",
       "      <td>No</td>\n",
       "      <td>No</td>\n",
       "      <td>1</td>\n",
       "    </tr>\n",
       "  </tbody>\n",
       "</table>\n",
       "<p>5 rows × 22 columns</p>\n",
       "</div>"
      ],
      "text/plain": [
       "      id customer_id begin_date   end_date            type paperless_billing  \\\n",
       "0  28173  7590-VHVEG 2020-01-01        NaT  Month-to-month               Yes   \n",
       "1  28174  5575-GNVDE 2017-04-01        NaT        One year                No   \n",
       "2  28175  3668-QPYBK 2019-10-01 2019-12-01  Month-to-month               Yes   \n",
       "3  28176  7795-CFOCW 2016-05-01        NaT        One year                No   \n",
       "4  28177  9237-HQITU 2019-09-01 2019-11-01  Month-to-month               Yes   \n",
       "\n",
       "              payment_method  monthly_charges  total_charges internet_service  \\\n",
       "0           Electronic check            29.85          29.85              DSL   \n",
       "1               Mailed check            56.95        1889.50              DSL   \n",
       "2               Mailed check            53.85         108.15              DSL   \n",
       "3  Bank transfer (automatic)            42.30        1840.75              DSL   \n",
       "4           Electronic check            70.70         151.65      Fiber optic   \n",
       "\n",
       "   ... device_protection tech_support streaming_tv streaming_movies  gender  \\\n",
       "0  ...                No           No           No               No  Female   \n",
       "1  ...               Yes           No           No               No    Male   \n",
       "2  ...                No           No           No               No    Male   \n",
       "3  ...               Yes          Yes           No               No    Male   \n",
       "4  ...                No           No           No               No  Female   \n",
       "\n",
       "  senior_citizen partner  dependents multiple_lines target  \n",
       "0              0     Yes          No           None      0  \n",
       "1              0      No          No             No      0  \n",
       "2              0      No          No             No      1  \n",
       "3              0      No          No           None      0  \n",
       "4              0      No          No             No      1  \n",
       "\n",
       "[5 rows x 22 columns]"
      ]
     },
     "execution_count": 33,
     "metadata": {},
     "output_type": "execute_result"
    }
   ],
   "source": [
    "df.head()"
   ]
  },
  {
   "cell_type": "code",
   "execution_count": 38,
   "id": "5dcafda3",
   "metadata": {},
   "outputs": [],
   "source": [
    "# 1. Название колонок вашего датафрейма запишите в текстовый файл\n",
    "os.makedirs('../data', exist_ok=True)\n",
    "with open(\"../data/columns.txt\", \"w\", encoding=\"utf-8\") as fio:\n",
    "    fio.write(', '.join(df.columns))"
   ]
  },
  {
   "cell_type": "code",
   "execution_count": 39,
   "id": "ecf59b32",
   "metadata": {},
   "outputs": [],
   "source": [
    "counts_columns = [\n",
    "    \"type\", \"paperless_billing\", \"internet_service\", \"online_security\", \"online_backup\", \"device_protection\",\n",
    "    \"tech_support\", \"streaming_tv\", \"streaming_movies\", \"gender\", \"senior_citizen\", \"partner\", \"dependents\",\n",
    "    \"multiple_lines\", \"target\"\n",
    "]\n",
    "\n",
    "stats = {}"
   ]
  },
  {
   "cell_type": "code",
   "execution_count": 40,
   "id": "13dd9b78",
   "metadata": {},
   "outputs": [],
   "source": [
    "for col in counts_columns:\n",
    "\t\t# посчитайте уникальные значения для колонок, где немного уникальных значений (переменная counts_columns)\n",
    "    column_stat = df[col].value_counts()\n",
    "    column_stat = {f\"{col}_{key}\": value for key, value in column_stat.items()}\n",
    "\n",
    "\t\t# обновите словарь stats\n",
    "    stats.update(column_stat)"
   ]
  },
  {
   "cell_type": "code",
   "execution_count": 41,
   "id": "497271f5",
   "metadata": {},
   "outputs": [],
   "source": [
    "stats[\"data_length\"] = df.shape[0]\n",
    "stats[\"monthly_charges_min\"] = df[\"monthly_charges\"].min()\n",
    "stats[\"monthly_charges_max\"] = df[\"monthly_charges\"].max() # посчитайте максимальное значение в колонке\n",
    "stats[\"monthly_charges_mean\"] = df[\"monthly_charges\"].mean() # посчитайте среднее значение в колонке\n",
    "stats[\"monthly_charges_median\"] = df[\"monthly_charges\"].median() # посчитайте медианное значение в колонке\n",
    "stats[\"total_charges_min\"] = df[\"total_charges\"].min() # посчитайте минимальное значение в колонке\n",
    "stats[\"total_charges_max\"] = df[\"total_charges\"].max() # посчитайте максимальное значение в колонке\n",
    "stats[\"total_charges_mean\"] = df[\"total_charges\"].mean() # посчитайте среднее значение в колонке\n",
    "stats[\"total_charges_median\"] = df[\"total_charges\"].median() # посчитайте медианное значение в колонке\n",
    "stats[\"unique_customers_number\"] = df[\"customer_id\"].nunique() # посчитайте кол-во уникальных id\n",
    "stats[\"end_date_nan\"] = df[\"end_date\"].isnull().sum() # посчитайте кол-во пустых строк в колонке"
   ]
  },
  {
   "cell_type": "code",
   "execution_count": 42,
   "id": "2b57c1f0",
   "metadata": {},
   "outputs": [
    {
     "data": {
      "text/plain": [
       "{'type_Month-to-month': 3875,\n",
       " 'type_Two year': 1695,\n",
       " 'type_One year': 1473,\n",
       " 'paperless_billing_Yes': 4171,\n",
       " 'paperless_billing_No': 2872,\n",
       " 'internet_service_Fiber optic': 3096,\n",
       " 'internet_service_DSL': 2421,\n",
       " 'online_security_No': 3498,\n",
       " 'online_security_Yes': 2019,\n",
       " 'online_backup_No': 3088,\n",
       " 'online_backup_Yes': 2429,\n",
       " 'device_protection_No': 3095,\n",
       " 'device_protection_Yes': 2422,\n",
       " 'tech_support_No': 3473,\n",
       " 'tech_support_Yes': 2044,\n",
       " 'streaming_tv_No': 2810,\n",
       " 'streaming_tv_Yes': 2707,\n",
       " 'streaming_movies_No': 2785,\n",
       " 'streaming_movies_Yes': 2732,\n",
       " 'gender_Male': 3555,\n",
       " 'gender_Female': 3488,\n",
       " 'senior_citizen_0': 5901,\n",
       " 'senior_citizen_1': 1142,\n",
       " 'partner_No': 3641,\n",
       " 'partner_Yes': 3402,\n",
       " 'dependents_No': 4933,\n",
       " 'dependents_Yes': 2110,\n",
       " 'multiple_lines_No': 3390,\n",
       " 'multiple_lines_Yes': 2971,\n",
       " 'target_0': 5174,\n",
       " 'target_1': 1869,\n",
       " 'data_length': 7043,\n",
       " 'monthly_charges_min': np.float64(18.25),\n",
       " 'monthly_charges_max': np.float64(118.75),\n",
       " 'monthly_charges_mean': np.float64(64.76169246059918),\n",
       " 'monthly_charges_median': np.float64(70.35),\n",
       " 'total_charges_min': np.float64(18.8),\n",
       " 'total_charges_max': np.float64(8684.8),\n",
       " 'total_charges_mean': np.float64(2283.300440841866),\n",
       " 'total_charges_median': np.float64(1397.475),\n",
       " 'unique_customers_number': 7043,\n",
       " 'end_date_nan': np.int64(5174)}"
      ]
     },
     "execution_count": 42,
     "metadata": {},
     "output_type": "execute_result"
    }
   ],
   "source": [
    "stats"
   ]
  },
  {
   "cell_type": "code",
   "execution_count": 43,
   "id": "aaf16543",
   "metadata": {},
   "outputs": [],
   "source": [
    "df.to_csv(\"../data/users_churn.csv\", index=False) "
   ]
  },
  {
   "cell_type": "code",
   "execution_count": 44,
   "id": "afd696ee",
   "metadata": {},
   "outputs": [],
   "source": [
    "# задаём название эксперимента и имя запуска для логирования в MLflow\n",
    "\n",
    "EXPERIMENT_NAME = \"churn_kruglikovAlex\"\n",
    "RUN_NAME = \"data_check\""
   ]
  },
  {
   "cell_type": "code",
   "execution_count": 45,
   "id": "a75e8cee",
   "metadata": {},
   "outputs": [],
   "source": [
    "# создаём новый эксперимент в MLflow с указанным названием \n",
    "# если эксперимент с таким именем уже существует, \n",
    "# MLflow возвращает идентификатор существующего эксперимента\n",
    "experiment_id = mlflow.create_experiment(EXPERIMENT_NAME) # ваш код здесь"
   ]
  },
  {
   "cell_type": "code",
   "execution_count": 46,
   "id": "ecbc50e6",
   "metadata": {},
   "outputs": [],
   "source": [
    "with mlflow.start_run(experiment_id=experiment_id, run_name=RUN_NAME) as run:\n",
    "    # получаем уникальный идентификатор запуска эксперимента\n",
    "    run_id = run.info.run_id # ваш код здесь\n",
    "    \n",
    "    # логируем метрики эксперимента\n",
    "    # предполагается, что переменная stats содержит словарь с метриками,\n",
    "    # объявлять переменную stats не надо,\n",
    "    # где ключи — это названия метрик, а значения — числовые значения метрик\n",
    "    mlflow.log_metrics(stats) # ваш код здесь\n",
    "    \n",
    "    # логируем файлы как артефакты эксперимента — 'columns.txt' и 'users_churn.csv'\n",
    "    mlflow.log_artifact(\"../data/columns.txt\", \"dataframe\") # ваш код здесь\n",
    "    mlflow.log_artifact(\"../data/users_churn.csv\", \"dataframe\") # ваш код здесь"
   ]
  },
  {
   "cell_type": "code",
   "execution_count": 47,
   "id": "81aca346",
   "metadata": {},
   "outputs": [],
   "source": [
    "experiment = mlflow.get_experiment_by_name(EXPERIMENT_NAME)\n",
    "# получаем данные о запуске эксперимента по его уникальному идентификатору\n",
    "run = mlflow.get_run(run_id) # ваш код здесь"
   ]
  },
  {
   "cell_type": "code",
   "execution_count": 48,
   "id": "40eeb88a",
   "metadata": {},
   "outputs": [],
   "source": [
    "# проверяем, что статус запуска эксперимента изменён на 'FINISHED'\n",
    "# это утверждение (assert) можно использовать для автоматической проверки того, \n",
    "# что эксперимент был завершён успешно\n",
    "assert run.info.status == \"FINISHED\" # ваш код здесь"
   ]
  },
  {
   "cell_type": "code",
   "execution_count": 49,
   "id": "694db394",
   "metadata": {},
   "outputs": [
    {
     "data": {
      "text/plain": [
       "'FINISHED'"
      ]
     },
     "execution_count": 49,
     "metadata": {},
     "output_type": "execute_result"
    }
   ],
   "source": [
    "run.info.status"
   ]
  },
  {
   "cell_type": "code",
   "execution_count": 50,
   "id": "910fffb8",
   "metadata": {},
   "outputs": [
    {
     "data": {
      "text/plain": [
       "'025243932bf248d6be1db9e80ad2f24a'"
      ]
     },
     "execution_count": 50,
     "metadata": {},
     "output_type": "execute_result"
    }
   ],
   "source": [
    "run_id"
   ]
  },
  {
   "cell_type": "code",
   "execution_count": 51,
   "id": "d5d97d07",
   "metadata": {},
   "outputs": [],
   "source": [
    "# удаляем файлы 'columns.txt' и 'users_churn.csv' из файловой системы,\n",
    "# чтобы очистить рабочую среду после логирования артефактов\n",
    "os.remove(\"../data/columns.txt\") # ваш код здесь\n",
    "os.remove(\"../data/users_churn.csv\") # ваш код здесь"
   ]
  }
 ],
 "metadata": {
  "kernelspec": {
   "display_name": ".venv_mle-mlflow",
   "language": "python",
   "name": "python3"
  },
  "language_info": {
   "codemirror_mode": {
    "name": "ipython",
    "version": 3
   },
   "file_extension": ".py",
   "mimetype": "text/x-python",
   "name": "python",
   "nbconvert_exporter": "python",
   "pygments_lexer": "ipython3",
   "version": "3.10.12"
  }
 },
 "nbformat": 4,
 "nbformat_minor": 5
}
